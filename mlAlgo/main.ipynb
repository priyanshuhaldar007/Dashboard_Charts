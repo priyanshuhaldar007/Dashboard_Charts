{
 "cells": [
  {
   "cell_type": "code",
   "execution_count": 1,
   "metadata": {},
   "outputs": [
    {
     "name": "stderr",
     "output_type": "stream",
     "text": [
      "c:\\Python310\\lib\\site-packages\\requests\\__init__.py:109: RequestsDependencyWarning: urllib3 (1.26.9) or chardet (5.0.0)/charset_normalizer (2.0.12) doesn't match a supported version!\n",
      "  warnings.warn(\n"
     ]
    }
   ],
   "source": [
    "from fastapi  import FastAPI\n",
    "import requests\n",
    "import pandas as pd\n",
    "import matplotlib.pyplot as plt\n",
    "# import sklearn\n",
    "# from sklearn import linear_model\n",
    "\n",
    "import random"
   ]
  },
  {
   "cell_type": "code",
   "execution_count": 2,
   "metadata": {},
   "outputs": [],
   "source": [
    "app = FastAPI()"
   ]
  },
  {
   "cell_type": "code",
   "execution_count": null,
   "metadata": {},
   "outputs": [],
   "source": [
    "@app.get('/')\n",
    "async def root():\n",
    "    request = (requests.get('http://localhost:5000/getData?key=\"MSFT\"')).json()\n",
    "    values = request[\"values\"]\n",
    "    Open,High,Low,Close,Vol,Time = [],[],[],[],[],[]\n",
    "    for i in values:\n",
    "        Open.append(i[\"Open\"])\n",
    "        High.append(i[\"High\"])\n",
    "        Low.append(i[\"Low\"])\n",
    "        Close.append(i[\"Close\"])\n",
    "        Vol.append(i[\"Volume\"])\n",
    "        Time.append(i[\"Time\"])\n",
    "    # print(Open,\"\\n\",High,\"\\n\",Low,\"\\n\",Close,\"\\n\",Vol,\"\\n\",Time,\"\\n\")\n",
    "    dfOpen = pd.DataFrame(list(zip(Time, Open)),columns=['Time','Open'])\n",
    "    dfHigh = pd.DataFrame(list(zip(Time, High)),columns=['Time','High'])\n",
    "    dfLow = pd.DataFrame(list(zip(Time, Low)),columns=['Time','Low'])\n",
    "    dfClose = pd.DataFrame(list(zip(Time, Close)),columns=['Time','Close'])\n",
    "    dfVol = pd.DataFrame(list(zip(Time, Vol)),columns=['Time','Vol'])\n",
    "\n",
    "    print(dfOpen.head())\n",
    "    print(dfHigh.head())\n",
    "    print(dfLow.head())\n",
    "    print(dfClose.head())\n",
    "    print(dfVol.head())\n",
    "\n",
    "    # %matplotlib inline\n",
    "    plt.xlabel('area(sqft)')\n",
    "    plt.ylabel('price(US$)')\n",
    "    plt.scatter(dfOpen.Time,dfOpen.Open,color='red',marker='+')\n",
    "    # return request\n",
    "    return {'example':'This is an example','data':0}"
   ]
  }
 ],
 "metadata": {
  "kernelspec": {
   "display_name": "Python 3",
   "language": "python",
   "name": "python3"
  },
  "language_info": {
   "codemirror_mode": {
    "name": "ipython",
    "version": 3
   },
   "file_extension": ".py",
   "mimetype": "text/x-python",
   "name": "python",
   "nbconvert_exporter": "python",
   "pygments_lexer": "ipython3",
   "version": "3.10.4"
  },
  "orig_nbformat": 4
 },
 "nbformat": 4,
 "nbformat_minor": 2
}
